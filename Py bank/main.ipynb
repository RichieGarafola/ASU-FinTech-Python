{
 "cells": [
  {
   "cell_type": "code",
   "execution_count": null,
   "id": "2d230231-569d-43c6-b99b-81934515b836",
   "metadata": {},
   "outputs": [],
   "source": [
    "\"\"\"\n",
    "Psuedocode:\n",
    "## Import library and set the path\n",
    "# From the pathlib library, import the main class Path\n",
    "# Import the csv file\n",
    "# Set the path using Pathlib\n",
    "\n",
    "## Global Variables\n",
    "# Variables list, start with open lists and int placeholders for now\n",
    "\n",
    "## With Loop\n",
    "# Open the file in \"read\" mode ('r') and store the contents in the variable 'Pybank'\n",
    "# read_Pybank is holding the reader of the file allowing us to manipulate the data\n",
    "# Parse the file line by line, (Parse divides the code into a small piece of code)\n",
    "# A header is the title of the chart the next() function reads line by line (mini loop)\n",
    "\n",
    "# Now Track the totals by using the following logic:\n",
    "# first row is equal to the first line in the Pybank file\n",
    "# interger of the total_net and previous_net local variables are set the same. We will be subtracting the 2 later\n",
    "\n",
    "## For Loop\n",
    "# for each element or line in the file read_pybank, allow us to read the data line by line\n",
    "# (local variable) holding the numerical value affiliated with the second collumn in the row\n",
    "# total months count each line by adding the following line \n",
    "# total net is the sum of the profit and losses \n",
    "\n",
    "## if statement\n",
    "# if net_change is greater than the greatest increase in profit and loss,\n",
    "# greatest increase of profit and losses is the net change\n",
    "# and the month of the greatest increase is on the respected line \n",
    "# if net_change is less than the greatest decrease in profit and loss,\n",
    "# greatest decrease of profit and losses is the net change\n",
    "# and the month of the greatest decrease is on the respected line \n",
    "\n",
    "## Print Output\n",
    "\n",
    "## output the file to .txt\n",
    "# set the output header\n",
    "# set the output path\n",
    "# open the output path in a with loop and refer to it as csvfile\n",
    "# Set the file output as a csvwriter object\n",
    "# write the header to the output file\n",
    "# write the list of metrics to the output file \n"
   ]
  },
  {
   "cell_type": "code",
   "execution_count": 1,
   "id": "2a7bf9b6-3c51-42e3-9722-477955e66655",
   "metadata": {},
   "outputs": [],
   "source": [
    "from pathlib import Path\n",
    "import csv\n",
    "\n",
    "Pybank = Path('../budget_data.csv')\n",
    "total_month, total_net = 0, 0\n",
    "month, monthly_change, greatest_increase, greatest_decrease = [], [], [\"\", 0], [\"\", 0]"
   ]
  },
  {
   "cell_type": "code",
   "execution_count": 2,
   "id": "9b4cf035-377f-41f5-a455-7d2af0161d97",
   "metadata": {},
   "outputs": [],
   "source": [
    "with open('budget_data.csv', 'r') as Pybank:\n",
    "    read_pybank = csv.reader(Pybank)\n",
    "    header = next(read_pybank)\n",
    "    first_row = next(read_pybank)\n",
    "    total_net, previous_net = int(first_row[1]), int(first_row[1])\n",
    "    total_month += 1     \n",
    "    for line in read_pybank:\n",
    "        int_row = int(line[1])\n",
    "        total_month += 1\n",
    "        total_net, net_change, previous_net = total_net + int_row, int_row - previous_net, int_row         \n",
    "        monthly_change = monthly_change + [net_change]\n",
    "        if net_change > greatest_increase[1]:\n",
    "            greatest_increase[1], greatest_increase[0] = net_change, line[0]\n",
    "        if net_change < greatest_decrease[1]:\n",
    "            greatest_decrease[1], greatest_decrease[0] = net_change, line[0]\n",
    "average_change = round(sum(monthly_change)/len(monthly_change),2)"
   ]
  },
  {
   "cell_type": "code",
   "execution_count": 3,
   "id": "879efe2b-dc8d-49a6-a45e-a0d2a3f4c20a",
   "metadata": {},
   "outputs": [
    {
     "name": "stdout",
     "output_type": "stream",
     "text": [
      "Financial Analysis\n",
      "\n",
      "----------------------------\n",
      "\n",
      "Total number of months: 86\n",
      "Total: $ 38382578\n",
      "Average change : $ -2315.12\n",
      "Greatest Increase in Profits: ['Feb-2012', 1926159]\n",
      "Greatest Decrease in Profits: ['Sep-2013', -2196167]\n"
     ]
    }
   ],
   "source": [
    "print(f'Financial Analysis'+'\\n')    \n",
    "print(f'----------------------------'+'\\n')\n",
    "print(f\"Total number of months: {total_month}\")\n",
    "print(f\"Total: $ {total_net}\")\n",
    "print(f\"Average change : $ {average_change}\")\n",
    "print(f\"Greatest Increase in Profits: {greatest_increase}\")\n",
    "print(f\"Greatest Decrease in Profits: {greatest_decrease}\") "
   ]
  },
  {
   "cell_type": "code",
   "execution_count": 6,
   "id": "59bf1439-162b-4eba-b101-dd76164a1775",
   "metadata": {},
   "outputs": [],
   "source": [
    "header = [\"Financial Analysis\"]\n",
    "output_path = Path('Pybank.txt')\n",
    "with open(output_path, 'w') as csvfile:\n",
    "    csvwriter = csv.writer(csvfile, delimiter=',')\n",
    "    csvwriter.writerow(header)\n",
    "    csvfile.write('----------------------------------------'+'\\n')\n",
    "    csvfile.write(f\"Total number of months: {total_month}\" + '\\n')\n",
    "    csvfile.write(f\"Total: $ {total_net}\" + '\\n')\n",
    "    csvfile.write(\"Average change : $ {average_change}\" + '\\n')\n",
    "    csvfile.write(f\"Greatest Increase in Profits: {greatest_increase}\" + '\\n')\n",
    "    csvfile.write(f\"Greatest Decrease in Profits: {greatest_decrease}\" + '\\n')"
   ]
  },
  {
   "cell_type": "code",
   "execution_count": null,
   "id": "ffdc7c26-875a-4c14-b602-65548f2fce79",
   "metadata": {},
   "outputs": [],
   "source": []
  }
 ],
 "metadata": {
  "kernelspec": {
   "display_name": "Python 3 (ipykernel)",
   "language": "python",
   "name": "python3"
  },
  "language_info": {
   "codemirror_mode": {
    "name": "ipython",
    "version": 3
   },
   "file_extension": ".py",
   "mimetype": "text/x-python",
   "name": "python",
   "nbconvert_exporter": "python",
   "pygments_lexer": "ipython3",
   "version": "3.9.7"
  }
 },
 "nbformat": 4,
 "nbformat_minor": 5
}
